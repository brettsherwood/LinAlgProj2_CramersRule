{
 "cells": [
  {
   "cell_type": "code",
   "execution_count": 4,
   "metadata": {},
   "outputs": [],
   "source": [
    "# Linear Algebra\n",
    "# Project 2: Cramer's Rule. How fast is it?\n",
    "\n",
    "# Collaborators (in chronological order from discussion board):\n",
    "\n",
    "# Holly Hammons: Developed the first prototype of the code using a fixed 2x2 matrix to understand the process.\n",
    "\n",
    "# Connor Denney: Discovered use of .copy() function to copy a matrix, allowing manipulation of it without affect the original matrix.\n",
    "# Also edited Holly's initial program so that it will work for an arbitrary sized matrix.\n",
    "\n",
    "# Jaden Adams: Utilized np.random.randint() function to allow creation of a randomly generated matrix of any size. Also discovered\n",
    "# correct way to utilize slice operations and indexing for replacing columns of a matrix.\n",
    "\n",
    "# Everett Oklar: First to attempt the looping of the code to allow muliple matrices to be solved, also attempted the use of seperate\n",
    "# functions for solving Cramer's Rule and calculating time.\n",
    "\n",
    "# Gabbi Chrysler: The resident expert on the concept of complexity in programs.\n",
    "\n",
    "# Alex Langfield: First to implement a graphical representation of the data, served as the final basis for the code.\n",
    "\n",
    "# Brett Webb: Added loop to replace every column in A with matrix B to calculate Cramer's Rule. Also added graphical repreresentation\n",
    "# of the data.\n",
    "\n",
    "# Sophia Wyss: Made alterations to graph output to make it look neater. Also tested the final code on her own machine to determine\n",
    "# accuracy of results.\n",
    "\n",
    "# Stacy Barbarick: Performed a rough data analysis of the output of the code with very promising results.\n",
    "\n",
    "# Other Contributors: Nick Vail, Adam Forland"
   ]
  },
  {
   "cell_type": "code",
   "execution_count": 5,
   "metadata": {},
   "outputs": [],
   "source": [
    "import matplotlib.pyplot as plt  # Allows us to plot our results\n",
    "import numpy as np\n",
    "import time  # Allows access to the system clock so we can time the process"
   ]
  },
  {
   "cell_type": "code",
   "execution_count": 8,
   "metadata": {},
   "outputs": [
    {
     "name": "stdout",
     "output_type": "stream",
     "text": [
      "36.4181387424469 seconds\n"
     ]
    },
    {
     "data": {
      "image/png": "[encoded data removed]",
      "text/plain": [
       "<Figure size 432x288 with 1 Axes>"
      ]
     },
     "metadata": {
      "needs_background": "light"
     },
     "output_type": "display_data"
    }
   ],
   "source": [
    "t1 = time.time()  # Only used to see the total time the whole program takes\n",
    "S = 100  # Maximum matrix size\n",
    "cramersTimesList = []  # Empty list to store the time values in\n",
    "sizeList = []  # Empty list to store the sizes of the matrices\n",
    "# Used lists to keep track of the values because it was easier to append to an empty list than an empty array.  These will\n",
    "# be converted to arrays later for plotting\n",
    "\n",
    "\n",
    "for size in range(1,S+1):  # Start at 1 because we need to have the first matrix be of size 1, can't have one of size 0\n",
    "    detA = 0  # Looping parameter\n",
    "    while detA == 0:  # This will ensure the determinant does not equal zero, ensuring linear independance \n",
    "        \n",
    "        # Create an array (matrix) of random integers, min value is 0 by default, max value is set to 10 but can be changed\n",
    "        A = np.random.randint(10, size = [size,size])\n",
    "        detA = np.linalg.det(A)  # Find determinant of A\n",
    "       \n",
    "        # This is just in case so to not cause a divide by 0 error in the loop below. This skips the rest of this iteration and tries again,\n",
    "        # (i. e. Creates a new matrix of the same size, making sure it is invertible)\n",
    "        if detA == 0:  \n",
    "            continue\n",
    "\n",
    "        detAi = 0  # Looping parameter\n",
    "        while detAi == 0:  # Same case as the above while loop, we want invertible matrices\n",
    "            timeStart = time.time()  # Start time\n",
    "            \n",
    "            B = np.random.randint(10, size = [size])  # Generate a random B matrix to replace the columns of A with\n",
    "            # It is created here so that if, by replacing a column of A, makes detA = 0, it will generate a new B matrix and try again\n",
    "            \n",
    "            for i in range(size):\n",
    "                Ai = np.copy(A)  # Copy the A matrix to a new matrix in order to change the columns without changing A itself\n",
    "                Ai[:, i] = B  # Replace column i of Ai (a copy of A) with B\n",
    "                detA = np.linalg.det(A)  # Compute detA again to capture full time that it takes to solve for xi using Cramer's Rule\n",
    "                detAi = np.linalg.det(Ai)  # Compute determinant of Ai\n",
    "                xi = np.divide(detAi, detA)  # Cramer's Rule, divide the two determinants to obtain a unique solution\n",
    "            timeEnd = time.time()  # End time\n",
    "            timeCramers = timeEnd - timeStart  # Find total time it took to compute Cramer's Rule\n",
    "        \n",
    "    # These are added once an invertible A was created (i.e. detA != 0), and every matrix that was created by replacing each column\n",
    "    # with B was also invertible\n",
    "    sizeList.append(size)  # Add size to the size list, creates a list from 1 to S\n",
    "    cramersTimesList.append(timeCramers)  # Add the time it took for Cramer's Rule to be computed to the list\n",
    "    \n",
    "# Convert our time and size lists to arrays in order to plot them. pyplot expects arrays as inputs\n",
    "sizes = np.array(sizeList)\n",
    "cramersTimes = np.array(cramersTimesList)\n",
    "\n",
    "t2 = time.time()  # The total time the program takes to run\n",
    "print(t2 - t1, \"seconds\")\n",
    "\n",
    "# Plot the results\n",
    "plt.plot(sizes, cramersTimes, 'r', label='Cramer\\'s Times') \n",
    "plt.xlabel('Size of matrix (n x n)', fontsize=15)\n",
    "plt.ylabel('Time (s)', fontsize=15)\n",
    "plt.title(\"Cramer's Rule Times\", fontsize=15)\n",
    "plt.legend()\n",
    "plt.ticklabel_format(axis='y', scilimits=(0,0))  # Makes y-axis use scientific notation\n",
    "plt.tick_params(labelsize=12, length=5, colors='black')\n",
    "plt.show()"
   ]
  },
  {
   "cell_type": "code",
   "execution_count": null,
   "metadata": {},
   "outputs": [],
   "source": []
  },
  {
   "cell_type": "code",
   "execution_count": null,
   "metadata": {},
   "outputs": [],
   "source": []
  }
 ],
 "metadata": {
  "kernelspec": {
   "display_name": "Python 3",
   "language": "python",
   "name": "python3"
  },
  "language_info": {
   "codemirror_mode": {
    "name": "ipython",
    "version": 3
   },
   "file_extension": ".py",
   "mimetype": "text/x-python",
   "name": "python",
   "nbconvert_exporter": "python",
   "pygments_lexer": "ipython3",
   "version": "3.6.8"
  }
 },
 "nbformat": 4,
 "nbformat_minor": 2
}
